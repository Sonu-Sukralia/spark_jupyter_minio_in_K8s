{
 "cells": [
  {
   "cell_type": "code",
   "execution_count": 1,
   "id": "afcd390c-87da-47d6-8720-6e3a32a19290",
   "metadata": {},
   "outputs": [],
   "source": [
    "from pyspark.sql import SparkSession\n",
    "\n",
    "# Kubernetes dashboard > Config And Storage > Secrets > s3a-env-configuration\n",
    "#http://192.168.29.16:9090/browser/test login() :- E2XLJVLJHRZVUVLR & ZQ5BDKSIGDTIUI0CSRZYW22DRWKCTZLE\n",
    "\n",
    "#Kubernetes dashboard > Service > Services > \n",
    "#Name (s3a-hl) \n",
    "#Labels(v1.min.io/tenant: s3a) Type(ClusterIP) Cluster IP(none) and Internal Endpoints(s3a-hl.data-platform:9000 TCP & s3a-hl.data-platform:0 TCP)\n",
    "#http://s3a-hl.data-platform:9000\n",
    "\n",
    "#http://192.168.29.16:9090 go to Minio console then create Object Browser and upload csv file and then create Access Keys\n",
    "# \"accessKey\":\"qUqE7TK7Xhkw9hS8DS4b\",\"secretKey\":\"MeJYIY6s4X8P0SjYF7AsFkgf9AePLu837gndpAKS\"\n",
    "\n",
    "minio_endpoint = \"http://s3a-hl.data-platform:9000\"  # Ensure this matches your setup\n",
    "minio_access_key = \"qUqE7TK7Xhkw9hS8DS4b\"\n",
    "minio_secret_key = \"MeJYIY6s4X8P0SjYF7AsFkgf9AePLu837gndpAKS\"\n",
    "minio_bucket = \"test\"\n",
    "\n",
    "spark = SparkSession.builder \\\n",
    "    .appName(\"MinIOs\") \\\n",
    "    .config('spark.master','local')\\\n",
    "    .config(\"spark.jars.packages\", \"org.apache.hadoop:hadoop-aws:3.3.4\") \\\n",
    "    .config(\"spark.hadoop.fs.s3a.endpoint\", minio_endpoint) \\\n",
    "    .config(\"spark.hadoop.fs.s3a.access.key\", minio_access_key) \\\n",
    "    .config(\"spark.hadoop.fs.s3a.secret.key\", minio_secret_key) \\\n",
    "    .config(\"spark.hadoop.fs.s3a.impl\", \"org.apache.hadoop.fs.s3a.S3AFileSystem\") \\\n",
    "    .config(\"spark.hadoop.fs.s3a.path.style.access\", \"true\") \\\n",
    "    .config(\"spark.hadoop.fs.s3a.connection.ssl.enabled\", \"false\") \\\n",
    "    .getOrCreate()\n"
   ]
  },
  {
   "cell_type": "code",
   "execution_count": 2,
   "id": "46eb7981-5ab2-4c86-9388-c85b5f125ae0",
   "metadata": {},
   "outputs": [
    {
     "name": "stdout",
     "output_type": "stream",
     "text": [
      "+-----------+\n",
      "|avg(amount)|\n",
      "+-----------+\n",
      "|     2500.0|\n",
      "+-----------+\n",
      "\n"
     ]
    }
   ],
   "source": [
    "dataframe = spark.read.json('s3a://test/orders.json')\n",
    "\n",
    "average = dataframe.agg({'amount':'avg'})\n",
    "\n",
    "#average.write.format(\"csv\").option(\"header\", \"true\").save(\"s3a://test/json/\")\n",
    "\n",
    "average.show()"
   ]
  },
  {
   "cell_type": "code",
   "execution_count": 3,
   "id": "f397c5d2-06d4-4f08-b8e7-2db028e7401c",
   "metadata": {},
   "outputs": [
    {
     "name": "stdout",
     "output_type": "stream",
     "text": [
      "+--------+--------------------+--------------------+---------------+-------------+----------+------------------+------------+------------+------------+-----------+-----+-------+----------+------------+--------------------+------------+\n",
      "|     _c0|                 _c1|                 _c2|            _c3|          _c4|       _c5|               _c6|         _c7|         _c8|         _c9|       _c10| _c11|   _c12|      _c13|        _c14|                _c15|        _c16|\n",
      "+--------+--------------------+--------------------+---------------+-------------+----------+------------------+------------+------------+------------+-----------+-----+-------+----------+------------+--------------------+------------+\n",
      "|VendorID|tpep_pickup_datetime|tpep_dropoff_date...|passenger_count|trip_distance|RatecodeID|store_and_fwd_flag|PULocationID|DOLocationID|payment_type|fare_amount|extra|mta_tax|tip_amount|tolls_amount|improvement_surch...|total_amount|\n",
      "|       2|02/08/2018 05:07:...|02/08/2018 05:16:...|              1|         1.78|         1|                 N|          79|         162|           1|        8.5|  0.5|    0.5|         1|           0|                 0.3|        10.8|\n",
      "|       2|02/08/2018 05:06:...|02/08/2018 05:19:...|              1|         6.22|         1|                 N|         261|          89|           1|       18.5|  0.5|    0.5|      6.44|        5.76|                 0.3|          32|\n",
      "|       2|02/08/2018 05:49:...|02/08/2018 05:52:...|              1|         1.01|         1|                 N|          13|         231|           2|          5|  0.5|    0.5|         0|           0|                 0.3|         6.3|\n",
      "|       2|02/08/2018 05:10:...|02/08/2018 05:37:...|              1|        16.87|         5|                 N|         229|         132|           1|       58.5|    0|      0|     13.36|           8|                 0.3|       80.16|\n",
      "|       2|02/08/2018 05:53:...|02/08/2018 05:58:...|              2|         0.67|         1|                 N|         230|          50|           2|          5|  0.5|    0.5|         0|           0|                 0.3|         6.3|\n",
      "|       2|02/08/2018 05:37:...|02/08/2018 05:43:...|              1|         1.02|         1|                 N|         262|          75|           1|          6|  0.5|    0.5|         1|           0|                 0.3|         8.3|\n",
      "|       2|02/08/2018 05:47:...|02/08/2018 06:05:...|              1|         8.04|         1|                 N|          43|         138|           1|         24|  0.5|    0.5|      6.21|        5.76|                 0.3|       37.27|\n",
      "|       1|02/08/2018 05:57:...|02/08/2018 06:05:...|              1|            3|         1|                 N|         162|         114|           1|       10.5|    0|    0.5|         1|           0|                 0.3|        12.3|\n",
      "|       1|02/08/2018 05:30:...|02/08/2018 05:43:...|              3|          9.5|         1|                 N|          65|         138|           2|         27|  0.5|    0.5|         0|           0|                 0.3|        28.3|\n",
      "|       1|02/08/2018 05:53:...|02/08/2018 06:05:...|              1|          2.9|         1|                 N|         107|          48|           1|       11.5|    0|    0.5|         1|           0|                 0.3|        13.3|\n",
      "|       1|02/08/2018 05:34:...|02/08/2018 06:19:...|              1|         18.7|         2|                 N|         132|         144|           1|         52|    0|    0.5|      13.2|           0|                 0.3|          66|\n",
      "|       1|02/08/2018 05:18:...|02/08/2018 05:28:...|              2|          2.3|         1|                 N|         229|         246|           1|         10|  0.5|    0.5|         1|           0|                 0.3|        12.3|\n",
      "|       1|02/08/2018 05:53:...|02/08/2018 06:04:...|              1|          2.2|         1|                 N|         239|         140|           1|         10|  0.5|    0.5|      2.25|           0|                 0.3|       13.55|\n",
      "|       1|02/08/2018 05:44:...|02/08/2018 05:49:...|              1|          0.7|         1|                 N|         140|         141|           1|          5|  0.5|    0.5|      1.25|           0|                 0.3|        7.55|\n",
      "|       1|02/08/2018 05:51:...|02/08/2018 05:53:...|              1|          0.8|         1|                 N|         141|         229|           1|        4.5|  0.5|    0.5|       1.7|           0|                 0.3|         7.5|\n",
      "|       1|02/08/2018 05:15:...|02/08/2018 05:22:...|              1|          2.6|         1|                 N|          74|         239|           2|          9|  0.5|    0.5|         0|           0|                 0.3|        10.3|\n",
      "|       1|02/08/2018 05:43:...|02/08/2018 05:45:...|              1|          0.4|         1|                 N|         161|         230|           1|        3.5|  0.5|    0.5|         1|           0|                 0.3|         5.8|\n",
      "|       1|02/08/2018 05:42:...|02/08/2018 05:47:...|              1|          1.1|         1|                 N|         186|         161|           1|          6|  0.5|    0.5|      1.45|           0|                 0.3|        8.75|\n",
      "|       1|02/08/2018 05:54:...|02/08/2018 06:08:...|              1|          4.2|         1|                 N|          13|         230|           1|       14.5|  0.5|    0.5|      3.16|           0|                 0.3|       18.96|\n",
      "+--------+--------------------+--------------------+---------------+-------------+----------+------------------+------------+------------+------------+-----------+-----+-------+----------+------------+--------------------+------------+\n",
      "only showing top 20 rows\n",
      "\n"
     ]
    }
   ],
   "source": [
    "df = spark.read.csv(\"s3a://test/taxi.csv\")\n",
    "df.show()\n",
    "spark.stop()"
   ]
  },
  {
   "cell_type": "code",
   "execution_count": null,
   "id": "2fd2d8c6-1e96-4f7e-a401-7c6ed84a9b80",
   "metadata": {},
   "outputs": [],
   "source": []
  }
 ],
 "metadata": {
  "kernelspec": {
   "display_name": "Python 3 (ipykernel)",
   "language": "python",
   "name": "python3"
  },
  "language_info": {
   "codemirror_mode": {
    "name": "ipython",
    "version": 3
   },
   "file_extension": ".py",
   "mimetype": "text/x-python",
   "name": "python",
   "nbconvert_exporter": "python",
   "pygments_lexer": "ipython3",
   "version": "3.11.6"
  }
 },
 "nbformat": 4,
 "nbformat_minor": 5
}
